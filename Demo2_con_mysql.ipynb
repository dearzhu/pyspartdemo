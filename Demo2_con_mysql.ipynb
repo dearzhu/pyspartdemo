{
 "cells": [
  {
   "cell_type": "code",
   "execution_count": 1,
   "metadata": {},
   "outputs": [],
   "source": [
    "import findspark\n",
    "#初始化\n",
    "findspark.init()\n",
    "import warnings\n",
    "warnings.filterwarnings('ignore')\n",
    "from pyspark.sql import SparkSession\n",
    "\n"
   ]
  },
  {
   "cell_type": "code",
   "execution_count": 127,
   "metadata": {},
   "outputs": [
    {
     "name": "stdout",
     "output_type": "stream",
     "text": [
      "+-------------------+------+----+-------------------+------+----+--------------------+--------------------------------+----------+\n",
      "|               cxkh|  jymc|jdbz|               jysj|  jyje|jybz|             jydfzkh|                          jydfmc|       ymd|\n",
      "+-------------------+------+----+-------------------+------+----+--------------------+--------------------------------+----------+\n",
      "|0330059980130210812|  刘兵|  进|2016-02-21 15:30:27|6000.0| CNY|                null|                            null|2016-02-21|\n",
      "|   4096662643338373|白翠平|  进|2016-07-06 15:14:08|1500.0| CNY|                null|                            null|2016-07-06|\n",
      "|   4096662643338373|白翠平|  进|2016-07-13 16:48:09|2000.0| CNY|    6226223901739550|                          张晓梅|2016-07-13|\n",
      "|6210810330000115469|  刘涛|  进|2016-01-20 09:36:43|6000.0| CNY|44201505900052512524|财付通支付科技有限公司客户备付金|2016-01-20|\n",
      "+-------------------+------+----+-------------------+------+----+--------------------+--------------------------------+----------+\n",
      "only showing top 4 rows\n",
      "\n"
     ]
    }
   ],
   "source": [
    "# 定义数据库的地址，以及表，登录用户及密码\n",
    "url = \"jdbc:mysql://localhost:3306/sxzy\"\n",
    "table=\"df_gongzi\"\n",
    "#密码账户需要字典的形式传入\n",
    "properties ={\"user\":\"root\",\"password\":\"521521\"}\n",
    "spark = SparkSession.builder.appName('My first app').getOrCreate()\n",
    "df = spark.read.jdbc(url=url,table=table,properties=properties)\n",
    "df.show(4)\n"
   ]
  },
  {
   "cell_type": "code",
   "execution_count": 4,
   "metadata": {},
   "outputs": [
    {
     "data": {
      "text/plain": [
       "DataFrame[cxkh: string, jymc: string, jdbz: string, jysj: string, jyje: string, jybz: string, jydfzkh: string, jydfmc: string, ymd: string]"
      ]
     },
     "execution_count": 4,
     "metadata": {},
     "output_type": "execute_result"
    }
   ],
   "source": [
    "df  # 查看字段，通过字段回去需要的数据"
   ]
  },
  {
   "cell_type": "code",
   "execution_count": 9,
   "metadata": {},
   "outputs": [
    {
     "data": {
      "text/plain": [
       "(21136, 9)"
      ]
     },
     "execution_count": 9,
     "metadata": {},
     "output_type": "execute_result"
    }
   ],
   "source": [
    "df.count(),len(df.columns)"
   ]
  },
  {
   "cell_type": "code",
   "execution_count": 10,
   "metadata": {},
   "outputs": [
    {
     "name": "stdout",
     "output_type": "stream",
     "text": [
      "root\n",
      " |-- cxkh: string (nullable = true)\n",
      " |-- jymc: string (nullable = true)\n",
      " |-- jdbz: string (nullable = true)\n",
      " |-- jysj: string (nullable = true)\n",
      " |-- jyje: string (nullable = true)\n",
      " |-- jybz: string (nullable = true)\n",
      " |-- jydfzkh: string (nullable = true)\n",
      " |-- jydfmc: string (nullable = true)\n",
      " |-- ymd: string (nullable = true)\n",
      "\n"
     ]
    }
   ],
   "source": [
    "df.printSchema()# 元数据分析，查看字段类型"
   ]
  },
  {
   "cell_type": "code",
   "execution_count": 8,
   "metadata": {},
   "outputs": [],
   "source": [
    "df1=df.select(['cxkh','jymc']) # 按照列名选择"
   ]
  },
  {
   "cell_type": "code",
   "execution_count": 11,
   "metadata": {},
   "outputs": [
    {
     "name": "stdout",
     "output_type": "stream",
     "text": [
      "+-------------------+------+\n",
      "|               cxkh|  jymc|\n",
      "+-------------------+------+\n",
      "|0330059980130210812|  刘兵|\n",
      "|   4096662643338373|白翠平|\n",
      "|   4096662643338373|白翠平|\n",
      "|6210810330000115469|  刘涛|\n",
      "|6210810330000115469|  刘涛|\n",
      "+-------------------+------+\n",
      "only showing top 5 rows\n",
      "\n"
     ]
    }
   ],
   "source": [
    "df1.show(5)"
   ]
  },
  {
   "cell_type": "code",
   "execution_count": 12,
   "metadata": {},
   "outputs": [],
   "source": [
    "df2=df.filter((df['jyje']>100000) & (df['jysj']>'2015-01-01')) #按照条件进行筛选"
   ]
  },
  {
   "cell_type": "code",
   "execution_count": 14,
   "metadata": {},
   "outputs": [
    {
     "data": {
      "text/plain": [
       "DataFrame[cxkh: string, jymc: string, jdbz: string, jysj: string, jyje: string, jybz: string, jydfzkh: string, jydfmc: string, ymd: string]"
      ]
     },
     "execution_count": 14,
     "metadata": {},
     "output_type": "execute_result"
    }
   ],
   "source": [
    "df2"
   ]
  },
  {
   "cell_type": "code",
   "execution_count": 19,
   "metadata": {},
   "outputs": [
    {
     "name": "stdout",
     "output_type": "stream",
     "text": [
      "+------+\n",
      "|  jyje|\n",
      "+------+\n",
      "|6000.0|\n",
      "|1500.0|\n",
      "|2000.0|\n",
      "+------+\n",
      "only showing top 3 rows\n",
      "\n"
     ]
    }
   ],
   "source": [
    "df3=df.select(['jyje'])\n",
    "df3.show(3)"
   ]
  },
  {
   "cell_type": "code",
   "execution_count": 22,
   "metadata": {},
   "outputs": [
    {
     "name": "stdout",
     "output_type": "stream",
     "text": [
      "root\n",
      " |-- jyje: string (nullable = true)\n",
      "\n"
     ]
    }
   ],
   "source": [
    "df3.printSchema()"
   ]
  },
  {
   "cell_type": "code",
   "execution_count": 23,
   "metadata": {},
   "outputs": [],
   "source": [
    "from pyspark.sql import SparkSession\n",
    "from pyspark.ml.feature import VectorAssembler\n",
    "from pyspark.ml.stat import Correlation"
   ]
  },
  {
   "cell_type": "code",
   "execution_count": 24,
   "metadata": {},
   "outputs": [],
   "source": [
    "# 类型转换\n",
    "df3 = df3.withColumn(\"jyje\",df3.jyje.astype(\"int\"))"
   ]
  },
  {
   "cell_type": "code",
   "execution_count": 25,
   "metadata": {},
   "outputs": [],
   "source": [
    "# 生成密集性向量\n",
    "assembler = VectorAssembler(inputCols=df3.columns,outputCol=\"features\")\n",
    "df_new=assembler.transform(df3)"
   ]
  },
  {
   "cell_type": "code",
   "execution_count": 27,
   "metadata": {},
   "outputs": [
    {
     "name": "stdout",
     "output_type": "stream",
     "text": [
      "+----+--------+\n",
      "|jyje|features|\n",
      "+----+--------+\n",
      "|6000|[6000.0]|\n",
      "|1500|[1500.0]|\n",
      "+----+--------+\n",
      "only showing top 2 rows\n",
      "\n"
     ]
    }
   ],
   "source": [
    "df_new.show(2)"
   ]
  },
  {
   "cell_type": "code",
   "execution_count": 28,
   "metadata": {},
   "outputs": [
    {
     "name": "stdout",
     "output_type": "stream",
     "text": [
      "+-----------------+\n",
      "|pearson(features)|\n",
      "+-----------------+\n",
      "|            1.0  |\n",
      "+-----------------+\n",
      "\n"
     ]
    }
   ],
   "source": [
    "Correlation.corr(df_new,'features').show()## pearson相关性"
   ]
  },
  {
   "cell_type": "code",
   "execution_count": 29,
   "metadata": {},
   "outputs": [
    {
     "name": "stdout",
     "output_type": "stream",
     "text": [
      "+------------------+\n",
      "|spearman(features)|\n",
      "+------------------+\n",
      "|             1.0  |\n",
      "+------------------+\n",
      "\n"
     ]
    }
   ],
   "source": [
    "Correlation.corr(df_new,'features', 'spearman').show()# 计算spearman系数"
   ]
  },
  {
   "cell_type": "code",
   "execution_count": 30,
   "metadata": {},
   "outputs": [
    {
     "name": "stdout",
     "output_type": "stream",
     "text": [
      "+-------+--------------------+------+-----+-------------------+------------------+-----+--------------------+----------------------------------+----------+\n",
      "|summary|                cxkh|  jymc| jdbz|               jysj|              jyje| jybz|             jydfzkh|                            jydfmc|       ymd|\n",
      "+-------+--------------------+------+-----+-------------------+------------------+-----+--------------------+----------------------------------+----------+\n",
      "|  count|               21136| 21136|21136|              21136|             21136|21136|               17456|                             17345|     21136|\n",
      "|   mean|1.393741088568533...|  null| null|               null| 158311.3010276308| null|1.038028163147666E24|                              null|      null|\n",
      "| stddev|2.738862497578493...|  null| null|               null|1335809.6294491452| null|1.510245156186868...|                              null|      null|\n",
      "|    min| 0330019980130136883|任志强|   进|2013-01-04 14:37:11|           1000.53|  CAD|     000000000000000|(特约)浦发银行大连分行(资金清算29)|2013-01-04|\n",
      "|    max|    6259061471660453|  高杰|   进|2020-01-12 17:53:57|           9999.91|  USD|          FSFA18018A|          （特约）钱袋宝（清算款）|2020-01-12|\n",
      "+-------+--------------------+------+-----+-------------------+------------------+-----+--------------------+----------------------------------+----------+\n",
      "\n"
     ]
    }
   ],
   "source": [
    "df.describe().show(５)"
   ]
  },
  {
   "cell_type": "code",
   "execution_count": 31,
   "metadata": {},
   "outputs": [
    {
     "name": "stdout",
     "output_type": "stream",
     "text": [
      "+-------+------------------+\n",
      "|summary|              jyje|\n",
      "+-------+------------------+\n",
      "|  count|             21136|\n",
      "|   mean|158311.19081188494|\n",
      "| stddev|1335809.6361363924|\n",
      "|    min|              1000|\n",
      "|    max|          61726798|\n",
      "+-------+------------------+\n",
      "\n"
     ]
    }
   ],
   "source": [
    "df3.describe().show()  # 描述性统计"
   ]
  },
  {
   "cell_type": "code",
   "execution_count": 32,
   "metadata": {},
   "outputs": [
    {
     "name": "stdout",
     "output_type": "stream",
     "text": [
      "root\n",
      " |-- jyje: integer (nullable = true)\n",
      "\n"
     ]
    }
   ],
   "source": [
    "df3.printSchema()#查看字段属性"
   ]
  },
  {
   "cell_type": "code",
   "execution_count": 33,
   "metadata": {},
   "outputs": [
    {
     "name": "stdout",
     "output_type": "stream",
     "text": [
      "+----------------+------+----+-------------------+---------+----+----------------+------+----------+\n",
      "|            cxkh|  jymc|jdbz|               jysj|     jyje|jybz|         jydfzkh|jydfmc|       ymd|\n",
      "+----------------+------+----+-------------------+---------+----+----------------+------+----------+\n",
      "|6217680703321161|崔新平|  进|2015-12-03 11:58:24|5000000.0| CNY|6226980700701764|吴晓虎|2015-12-03|\n",
      "|6217680703321161|崔新平|  进|2015-12-03 11:59:49|5000000.0| CNY|6226980700701764|吴晓虎|2015-12-03|\n",
      "+----------------+------+----+-------------------+---------+----+----------------+------+----------+\n",
      "only showing top 2 rows\n",
      "\n"
     ]
    }
   ],
   "source": [
    "df.filter(df['jymc']=='崔新平').show(2)  # 样本选择"
   ]
  },
  {
   "cell_type": "code",
   "execution_count": 34,
   "metadata": {},
   "outputs": [
    {
     "name": "stdout",
     "output_type": "stream",
     "text": [
      "+----------------+----+---------+\n",
      "|            cxkh|jdbz|     jyje|\n",
      "+----------------+----+---------+\n",
      "|6217680703321161|  进|5000000.0|\n",
      "|6217680703321161|  进|5000000.0|\n",
      "+----------------+----+---------+\n",
      "only showing top 2 rows\n",
      "\n"
     ]
    }
   ],
   "source": [
    "df.filter(df['jymc']=='崔新平').select('cxkh','jdbz','jyje').show(2) # 样本+变量选择"
   ]
  },
  {
   "cell_type": "code",
   "execution_count": 35,
   "metadata": {},
   "outputs": [
    {
     "name": "stdout",
     "output_type": "stream",
     "text": [
      "+-------+-------+\n",
      "|   jyje|   test|\n",
      "+-------+-------+\n",
      "| 6000.0| 6100.0|\n",
      "| 1500.0| 1600.0|\n",
      "| 2000.0| 2100.0|\n",
      "| 6000.0| 6100.0|\n",
      "|10000.0|10100.0|\n",
      "+-------+-------+\n",
      "only showing top 5 rows\n",
      "\n"
     ]
    }
   ],
   "source": [
    "df.withColumn('test',(df['jyje']+100)).select('jyje','test').show(5) # 增加字段"
   ]
  },
  {
   "cell_type": "code",
   "execution_count": 39,
   "metadata": {},
   "outputs": [],
   "source": [
    "# df.select('zysm').show()\n",
    "ddd=df[df['jydfmc'].isNull()]  # 筛选未空"
   ]
  },
  {
   "cell_type": "code",
   "execution_count": 49,
   "metadata": {},
   "outputs": [],
   "source": [
    "ddd1=ddd['jymc','jydfmc']"
   ]
  },
  {
   "cell_type": "code",
   "execution_count": 53,
   "metadata": {},
   "outputs": [
    {
     "name": "stdout",
     "output_type": "stream",
     "text": [
      "+------+------+\n",
      "|  jymc|jydfmc|\n",
      "+------+------+\n",
      "|  刘兵|    wz|\n",
      "|白翠平|    wz|\n",
      "+------+------+\n",
      "only showing top 2 rows\n",
      "\n",
      "+------+------+\n",
      "|  jymc|jydfmc|\n",
      "+------+------+\n",
      "|  刘兵|    wz|\n",
      "|白翠平|    wz|\n",
      "+------+------+\n",
      "only showing top 2 rows\n",
      "\n"
     ]
    }
   ],
   "source": [
    "ddd1.fillna('wz').show(2) #缺失值填充\n",
    "ddd1.na.fill('wz').show(2)  #缺失值填充"
   ]
  },
  {
   "cell_type": "markdown",
   "metadata": {},
   "source": [
    "分组处理"
   ]
  },
  {
   "cell_type": "code",
   "execution_count": 55,
   "metadata": {},
   "outputs": [
    {
     "name": "stdout",
     "output_type": "stream",
     "text": [
      "+------+-----+\n",
      "|  jymc|count|\n",
      "+------+-----+\n",
      "|张丽丽|  453|\n",
      "|高明明| 1075|\n",
      "|吴晓虎|  233|\n",
      "+------+-----+\n",
      "only showing top 3 rows\n",
      "\n",
      "+------+-----+\n",
      "|  jymc|count|\n",
      "+------+-----+\n",
      "|  刘涛| 8141|\n",
      "|张莉莉| 2598|\n",
      "|高明明| 1075|\n",
      "+------+-----+\n",
      "only showing top 3 rows\n",
      "\n"
     ]
    }
   ],
   "source": [
    "df.groupBy('jymc').count().show(3)\n",
    "df.groupBy('jymc').count().orderBy('count',ascending=False).show(3)"
   ]
  },
  {
   "cell_type": "code",
   "execution_count": 61,
   "metadata": {},
   "outputs": [
    {
     "name": "stdout",
     "output_type": "stream",
     "text": [
      "+-------+\n",
      "|jyje   |\n",
      "+-------+\n",
      "|1664.34|\n",
      "|1259.04|\n",
      "|1488.74|\n",
      "|1368.63|\n",
      "|1857.14|\n",
      "+-------+\n",
      "only showing top 5 rows\n",
      "\n"
     ]
    }
   ],
   "source": [
    "df.groupBy('jyje').mean().show(5,False)"
   ]
  },
  {
   "cell_type": "code",
   "execution_count": 82,
   "metadata": {},
   "outputs": [
    {
     "name": "stdout",
     "output_type": "stream",
     "text": [
      "+------+-------------------+-------------------+--------------------+\n",
      "|jymc  |cxkh               |max(jysj)          |sum(jyje)           |\n",
      "+------+-------------------+-------------------+--------------------+\n",
      "|崔新平|6229980707666660   |2019-11-22 15:32:39|7.1646981569E8      |\n",
      "|崔新平|6217680705469992   |2019-10-23 10:23:24|2.4818253972000003E8|\n",
      "|张丽丽|6229985520053194   |2019-03-01 16:10:24|2.0568639223999998E8|\n",
      "|吴晓虎|6217680706701815   |2019-12-09 10:42:21|2.0276562496000004E8|\n",
      "|杨晓龙|6222625430000169209|2019-12-14 10:48:07|1.8387798923999998E8|\n",
      "+------+-------------------+-------------------+--------------------+\n",
      "only showing top 5 rows\n",
      "\n"
     ]
    }
   ],
   "source": [
    "df.groupBy('jymc','cxkh').agg({'jyje':'sum','jysj':'max'}).orderBy('sum(jyje)',ascending=False).show(5,False) #特定函数聚合求解"
   ]
  },
  {
   "cell_type": "code",
   "execution_count": 93,
   "metadata": {},
   "outputs": [
    {
     "name": "stdout",
     "output_type": "stream",
     "text": [
      "+-------------------+------+\n",
      "|               cxkh|  jymc|\n",
      "+-------------------+------+\n",
      "|   6217685500292663|  刘涛|\n",
      "|0509256802204209296|杨建进|\n",
      "|   6216921002523698|杨建进|\n",
      "|   6226223903387994|杨晓龙|\n",
      "|       147970660363|郭凤兰|\n",
      "+-------------------+------+\n",
      "only showing top 5 rows\n",
      "\n"
     ]
    },
    {
     "data": {
      "text/plain": [
       "219"
      ]
     },
     "execution_count": 93,
     "metadata": {},
     "output_type": "execute_result"
    }
   ],
   "source": [
    "# df.select(['jymc','jydfmc']).stat.crosstab('jymc','jydfmc').show()\n",
    "df.select(['cxkh','jymc']).dropDuplicates().show(5),\n",
    "df.select(['cxkh','jymc']).dropDuplicates().count()"
   ]
  },
  {
   "cell_type": "code",
   "execution_count": 94,
   "metadata": {},
   "outputs": [],
   "source": [
    "from pyspark.sql.functions import  udf\n",
    "def jyje_level(x):\n",
    "    if x< 100000 :\n",
    "        return '一等'\n",
    "    elif 100000<=x <500000:\n",
    "        return '二等'\n",
    "    else :\n",
    "        return '三等'"
   ]
  },
  {
   "cell_type": "code",
   "execution_count": 124,
   "metadata": {},
   "outputs": [
    {
     "name": "stdout",
     "output_type": "stream",
     "text": [
      "+-----+----------+\n",
      "| jyje|jyje_level|\n",
      "+-----+----------+\n",
      "| 6000|      一等|\n",
      "| 1500|      一等|\n",
      "| 2000|      一等|\n",
      "| 6000|      一等|\n",
      "|10000|      一等|\n",
      "+-----+----------+\n",
      "only showing top 5 rows\n",
      "\n",
      "+-----+-----------+\n",
      "| jyje|jyje_level1|\n",
      "+-----+-----------+\n",
      "| 6000|          -|\n",
      "| 1500|          -|\n",
      "| 2000|          -|\n",
      "| 6000|          -|\n",
      "|10000|          -|\n",
      "+-----+-----------+\n",
      "only showing top 5 rows\n",
      "\n"
     ]
    }
   ],
   "source": [
    "from pyspark.sql.types import  StringType  #类似于ｌａｍｂｄａ\n",
    "brand_udf=udf(jyje_level,StringType())  #注册ｕｄｆ\n",
    "df3.withColumn('jyje_level',brand_udf(df3['jyje'])).show(5)   \n",
    "brand_udf1=udf(lambda x: '+' if x>1000000 else '-',StringType())  #匿名函数\n",
    "df3.withColumn('jyje_level1',brand_udf1(df3['jyje'])).show(5)\n"
   ]
  }
 ],
 "metadata": {
  "kernelspec": {
   "display_name": "Python 3",
   "language": "python",
   "name": "python3"
  },
  "language_info": {
   "codemirror_mode": {
    "name": "ipython",
    "version": 3
   },
   "file_extension": ".py",
   "mimetype": "text/x-python",
   "name": "python",
   "nbconvert_exporter": "python",
   "pygments_lexer": "ipython3",
   "version": "3.7.6"
  }
 },
 "nbformat": 4,
 "nbformat_minor": 2
}
