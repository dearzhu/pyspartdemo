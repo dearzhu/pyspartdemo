{
 "cells": [
  {
   "cell_type": "code",
   "execution_count": 161,
   "metadata": {},
   "outputs": [],
   "source": [
    "import findspark\n",
    "#初始化\n",
    "findspark.init()\n",
    "import warnings\n",
    "warnings.filterwarnings('ignore')\n",
    "from pyspark.sql import SparkSession\n",
    "\n"
   ]
  },
  {
   "cell_type": "code",
   "execution_count": 162,
   "metadata": {},
   "outputs": [],
   "source": [
    "# 定义数据库的地址，以及表，登录用户及密码\n",
    "url = \"jdbc:mysql://localhost:3306/sxzy\"\n",
    "table=\"df_gongzi\"\n",
    "#密码账户需要字典的形式传入\n",
    "properties ={\"user\":\"root\",\"password\":\"521521\"}\n",
    "spark = SparkSession.builder.appName('My first app').getOrCreate()\n",
    "df = spark.read.jdbc(url=url,table=table,properties=properties)\n",
    "# df.show(4)\n"
   ]
  },
  {
   "cell_type": "code",
   "execution_count": 163,
   "metadata": {},
   "outputs": [
    {
     "data": {
      "text/plain": [
       "DataFrame[cxkh: string, jymc: string, jdbz: string, jysj: string, jyje: string, jybz: string, jydfzkh: string, jydfmc: string, ymd: string]"
      ]
     },
     "execution_count": 163,
     "metadata": {},
     "output_type": "execute_result"
    }
   ],
   "source": [
    "df  # 查看字段，通过字段回去需要的数据"
   ]
  },
  {
   "cell_type": "code",
   "execution_count": 164,
   "metadata": {},
   "outputs": [
    {
     "data": {
      "text/plain": [
       "(21136, 9)"
      ]
     },
     "execution_count": 164,
     "metadata": {},
     "output_type": "execute_result"
    }
   ],
   "source": [
    "df.count(),len(df.columns)# 查看数据维度"
   ]
  },
  {
   "cell_type": "code",
   "execution_count": 165,
   "metadata": {},
   "outputs": [
    {
     "name": "stdout",
     "output_type": "stream",
     "text": [
      "root\n",
      " |-- cxkh: string (nullable = true)\n",
      " |-- jymc: string (nullable = true)\n",
      " |-- jdbz: string (nullable = true)\n",
      " |-- jysj: string (nullable = true)\n",
      " |-- jyje: string (nullable = true)\n",
      " |-- jybz: string (nullable = true)\n",
      " |-- jydfzkh: string (nullable = true)\n",
      " |-- jydfmc: string (nullable = true)\n",
      " |-- ymd: string (nullable = true)\n",
      "\n"
     ]
    }
   ],
   "source": [
    "df.printSchema()# 元数据分析，查看字段类型"
   ]
  },
  {
   "cell_type": "code",
   "execution_count": 166,
   "metadata": {},
   "outputs": [],
   "source": [
    "df1=df.select(['cxkh','jymc']) # 按照列名选择"
   ]
  },
  {
   "cell_type": "code",
   "execution_count": 167,
   "metadata": {},
   "outputs": [],
   "source": [
    "# df1.show(5)"
   ]
  },
  {
   "cell_type": "code",
   "execution_count": 168,
   "metadata": {},
   "outputs": [],
   "source": [
    "df2=df.filter((df['jyje']>100000) & (df['jysj']>'2015-01-01')) #按照条件进行筛选"
   ]
  },
  {
   "cell_type": "code",
   "execution_count": 169,
   "metadata": {},
   "outputs": [
    {
     "name": "stdout",
     "output_type": "stream",
     "text": [
      "root\n",
      " |-- cxkh: string (nullable = true)\n",
      " |-- jymc: string (nullable = true)\n",
      " |-- jdbz: string (nullable = true)\n",
      " |-- jysj: string (nullable = true)\n",
      " |-- jyje: string (nullable = true)\n",
      " |-- jybz: string (nullable = true)\n",
      " |-- jydfzkh: string (nullable = true)\n",
      " |-- jydfmc: string (nullable = true)\n",
      " |-- ymd: string (nullable = true)\n",
      "\n"
     ]
    }
   ],
   "source": [
    "df.printSchema()"
   ]
  },
  {
   "cell_type": "code",
   "execution_count": 170,
   "metadata": {},
   "outputs": [],
   "source": [
    "df3=df.select(['jyje'])\n",
    "# df3.show(3)"
   ]
  },
  {
   "cell_type": "code",
   "execution_count": 171,
   "metadata": {},
   "outputs": [
    {
     "name": "stdout",
     "output_type": "stream",
     "text": [
      "root\n",
      " |-- jyje: string (nullable = true)\n",
      "\n"
     ]
    }
   ],
   "source": [
    "df3.printSchema()"
   ]
  },
  {
   "cell_type": "code",
   "execution_count": 172,
   "metadata": {},
   "outputs": [],
   "source": [
    "from pyspark.sql import SparkSession\n",
    "from pyspark.ml.feature import VectorAssembler\n",
    "from pyspark.ml.stat import Correlation"
   ]
  },
  {
   "cell_type": "code",
   "execution_count": 173,
   "metadata": {},
   "outputs": [],
   "source": [
    "# 类型转换\n",
    "df3 = df3.withColumn(\"jyje\",df3.jyje.astype(\"int\"))"
   ]
  },
  {
   "cell_type": "code",
   "execution_count": 174,
   "metadata": {},
   "outputs": [],
   "source": [
    "# 生成密集性向量\n",
    "assembler = VectorAssembler(inputCols=df3.columns,outputCol=\"features\")\n",
    "df_new=assembler.transform(df3)"
   ]
  },
  {
   "cell_type": "code",
   "execution_count": 175,
   "metadata": {},
   "outputs": [
    {
     "name": "stdout",
     "output_type": "stream",
     "text": [
      "+----+--------+\n",
      "|jyje|features|\n",
      "+----+--------+\n",
      "|6000|[6000.0]|\n",
      "|1500|[1500.0]|\n",
      "+----+--------+\n",
      "only showing top 2 rows\n",
      "\n"
     ]
    }
   ],
   "source": [
    "df_new.show(2)"
   ]
  },
  {
   "cell_type": "code",
   "execution_count": 176,
   "metadata": {},
   "outputs": [
    {
     "name": "stdout",
     "output_type": "stream",
     "text": [
      "+-----------------+\n",
      "|pearson(features)|\n",
      "+-----------------+\n",
      "|            1.0  |\n",
      "+-----------------+\n",
      "\n"
     ]
    }
   ],
   "source": [
    "Correlation.corr(df_new,'features').show()## pearson相关性"
   ]
  },
  {
   "cell_type": "code",
   "execution_count": 177,
   "metadata": {},
   "outputs": [
    {
     "name": "stdout",
     "output_type": "stream",
     "text": [
      "+------------------+\n",
      "|spearman(features)|\n",
      "+------------------+\n",
      "|             1.0  |\n",
      "+------------------+\n",
      "\n"
     ]
    }
   ],
   "source": [
    "Correlation.corr(df_new,'features', 'spearman').show()# 计算spearman系数"
   ]
  },
  {
   "cell_type": "code",
   "execution_count": 178,
   "metadata": {},
   "outputs": [
    {
     "name": "stdout",
     "output_type": "stream",
     "text": [
      "+-------+------------------+\n",
      "|summary|              jyje|\n",
      "+-------+------------------+\n",
      "|  count|             21136|\n",
      "|   mean|158311.19081188494|\n",
      "| stddev|1335809.6361363924|\n",
      "|    min|              1000|\n",
      "|    max|          61726798|\n",
      "+-------+------------------+\n",
      "\n"
     ]
    }
   ],
   "source": [
    "df3.describe().show()  # 描述性统计"
   ]
  },
  {
   "cell_type": "code",
   "execution_count": 179,
   "metadata": {},
   "outputs": [
    {
     "name": "stdout",
     "output_type": "stream",
     "text": [
      "root\n",
      " |-- jyje: integer (nullable = true)\n",
      "\n"
     ]
    }
   ],
   "source": [
    "df3.printSchema()#查看字段属性"
   ]
  },
  {
   "cell_type": "code",
   "execution_count": 182,
   "metadata": {},
   "outputs": [
    {
     "name": "stdout",
     "output_type": "stream",
     "text": [
      "+----+----+----+----+----+----+-------+------+---+\n",
      "|cxkh|jymc|jdbz|jysj|jyje|jybz|jydfzkh|jydfmc|ymd|\n",
      "+----+----+----+----+----+----+-------+------+---+\n",
      "+----+----+----+----+----+----+-------+------+---+\n",
      "\n"
     ]
    }
   ],
   "source": [
    "df.filter(df['jymc']=='xx').show(2)  # 样本选择"
   ]
  },
  {
   "cell_type": "code",
   "execution_count": 183,
   "metadata": {},
   "outputs": [
    {
     "name": "stdout",
     "output_type": "stream",
     "text": [
      "+----+----+----+\n",
      "|cxkh|jdbz|jyje|\n",
      "+----+----+----+\n",
      "+----+----+----+\n",
      "\n"
     ]
    }
   ],
   "source": [
    "df.filter(df['jymc']=='xx').select('cxkh','jdbz','jyje').show(2) # 样本+变量选择"
   ]
  },
  {
   "cell_type": "code",
   "execution_count": 184,
   "metadata": {},
   "outputs": [
    {
     "name": "stdout",
     "output_type": "stream",
     "text": [
      "+-------+-------+\n",
      "|   jyje|   test|\n",
      "+-------+-------+\n",
      "| 6000.0| 6100.0|\n",
      "| 1500.0| 1600.0|\n",
      "| 2000.0| 2100.0|\n",
      "| 6000.0| 6100.0|\n",
      "|10000.0|10100.0|\n",
      "+-------+-------+\n",
      "only showing top 5 rows\n",
      "\n"
     ]
    }
   ],
   "source": [
    "df.withColumn('test',(df['jyje']+100)).select('jyje','test').show(5) # 增加字段"
   ]
  },
  {
   "cell_type": "code",
   "execution_count": 185,
   "metadata": {},
   "outputs": [],
   "source": [
    "# df.select('zysm').show()\n",
    "ddd=df[df['jydfmc'].isNull()]  # 筛选未空"
   ]
  },
  {
   "cell_type": "code",
   "execution_count": 186,
   "metadata": {},
   "outputs": [],
   "source": [
    "ddd1=ddd['jymc','jydfmc']"
   ]
  },
  {
   "cell_type": "code",
   "execution_count": 187,
   "metadata": {},
   "outputs": [
    {
     "name": "stdout",
     "output_type": "stream",
     "text": [
      "+------+------+\n",
      "|  jymc|jydfmc|\n",
      "+------+------+\n",
      "|  刘兵|    wz|\n",
      "|白翠平|    wz|\n",
      "+------+------+\n",
      "only showing top 2 rows\n",
      "\n",
      "+------+------+\n",
      "|  jymc|jydfmc|\n",
      "+------+------+\n",
      "|  刘兵|    wz|\n",
      "|白翠平|    wz|\n",
      "+------+------+\n",
      "only showing top 2 rows\n",
      "\n"
     ]
    }
   ],
   "source": [
    "ddd1.fillna('wz').show(2) #缺失值填充\n",
    "ddd1.na.fill('wz').show(2)  #缺失值填充"
   ]
  },
  {
   "cell_type": "markdown",
   "metadata": {},
   "source": [
    "分组处理"
   ]
  },
  {
   "cell_type": "code",
   "execution_count": 188,
   "metadata": {},
   "outputs": [
    {
     "name": "stdout",
     "output_type": "stream",
     "text": [
      "+------+-----+\n",
      "|  jymc|count|\n",
      "+------+-----+\n",
      "|张丽丽|  453|\n",
      "|高明明| 1075|\n",
      "|吴晓虎|  233|\n",
      "+------+-----+\n",
      "only showing top 3 rows\n",
      "\n",
      "+------+-----+\n",
      "|  jymc|count|\n",
      "+------+-----+\n",
      "|  刘涛| 8141|\n",
      "|张莉莉| 2598|\n",
      "|高明明| 1075|\n",
      "+------+-----+\n",
      "only showing top 3 rows\n",
      "\n"
     ]
    }
   ],
   "source": [
    "df.groupBy('jymc').count().show(3)\n",
    "df.groupBy('jymc').count().orderBy('count',ascending=False).show(3)"
   ]
  },
  {
   "cell_type": "code",
   "execution_count": 189,
   "metadata": {},
   "outputs": [
    {
     "name": "stdout",
     "output_type": "stream",
     "text": [
      "+-------+\n",
      "|jyje   |\n",
      "+-------+\n",
      "|1664.34|\n",
      "|1259.04|\n",
      "|1488.74|\n",
      "|1368.63|\n",
      "|1857.14|\n",
      "+-------+\n",
      "only showing top 5 rows\n",
      "\n"
     ]
    }
   ],
   "source": [
    "df.groupBy('jyje').mean().show(5,False)"
   ]
  },
  {
   "cell_type": "code",
   "execution_count": 190,
   "metadata": {},
   "outputs": [
    {
     "name": "stdout",
     "output_type": "stream",
     "text": [
      "+------+-------------------+-------------------+--------------------+\n",
      "|jymc  |cxkh               |max(jysj)          |sum(jyje)           |\n",
      "+------+-------------------+-------------------+--------------------+\n",
      "|崔新平|6229980707666660   |2019-11-22 15:32:39|7.1646981569E8      |\n",
      "|崔新平|6217680705469992   |2019-10-23 10:23:24|2.4818253972000003E8|\n",
      "|张丽丽|6229985520053194   |2019-03-01 16:10:24|2.0568639223999998E8|\n",
      "|吴晓虎|6217680706701815   |2019-12-09 10:42:21|2.0276562496000004E8|\n",
      "|杨晓龙|6222625430000169209|2019-12-14 10:48:07|1.8387798923999998E8|\n",
      "+------+-------------------+-------------------+--------------------+\n",
      "only showing top 5 rows\n",
      "\n"
     ]
    }
   ],
   "source": [
    "df.groupBy('jymc','cxkh').agg({'jyje':'sum','jysj':'max'}).orderBy('sum(jyje)',ascending=False).show(5,False) #特定函数聚合求解"
   ]
  },
  {
   "cell_type": "code",
   "execution_count": 191,
   "metadata": {},
   "outputs": [
    {
     "name": "stdout",
     "output_type": "stream",
     "text": [
      "+-------------------+------+\n",
      "|               cxkh|  jymc|\n",
      "+-------------------+------+\n",
      "|   6217685500292663|  刘涛|\n",
      "|0509256802204209296|杨建进|\n",
      "|   6216921002523698|杨建进|\n",
      "|   6226223903387994|杨晓龙|\n",
      "|       147970660363|郭凤兰|\n",
      "+-------------------+------+\n",
      "only showing top 5 rows\n",
      "\n"
     ]
    },
    {
     "data": {
      "text/plain": [
       "219"
      ]
     },
     "execution_count": 191,
     "metadata": {},
     "output_type": "execute_result"
    }
   ],
   "source": [
    "# df.select(['jymc','jydfmc']).stat.crosstab('jymc','jydfmc').show()\n",
    "df.select(['cxkh','jymc']).dropDuplicates().show(5),\n",
    "df.select(['cxkh','jymc']).dropDuplicates().count()"
   ]
  },
  {
   "cell_type": "code",
   "execution_count": 192,
   "metadata": {},
   "outputs": [],
   "source": [
    "def jyje_level(x):\n",
    "    if x< 100000 :\n",
    "        return '一等'\n",
    "    elif 100000<=x <500000:\n",
    "        return '二等'\n",
    "    else :\n",
    "        return '三等'"
   ]
  },
  {
   "cell_type": "code",
   "execution_count": 193,
   "metadata": {},
   "outputs": [
    {
     "name": "stdout",
     "output_type": "stream",
     "text": [
      "+-----+----------+\n",
      "| jyje|jyje_level|\n",
      "+-----+----------+\n",
      "| 6000|      一等|\n",
      "| 1500|      一等|\n",
      "| 2000|      一等|\n",
      "| 6000|      一等|\n",
      "|10000|      一等|\n",
      "+-----+----------+\n",
      "only showing top 5 rows\n",
      "\n",
      "+-----+-----------+\n",
      "| jyje|jyje_level1|\n",
      "+-----+-----------+\n",
      "| 6000|          -|\n",
      "| 1500|          -|\n",
      "| 2000|          -|\n",
      "| 6000|          -|\n",
      "|10000|          -|\n",
      "+-----+-----------+\n",
      "only showing top 5 rows\n",
      "\n"
     ]
    }
   ],
   "source": [
    "from pyspark.sql.functions import  udf\n",
    "from pyspark.sql.types import  StringType  #类似于ｌａｍｂｄａ\n",
    "brand_udf=udf(jyje_level,StringType())  #注册ｕｄf\n",
    "df3.withColumn('jyje_level',brand_udf(df3['jyje'])).show(5)   \n",
    "brand_udf1=udf(lambda x: '+' if x>1000000 else '-',StringType())  #匿名函数\n",
    "df3.withColumn('jyje_level1',brand_udf1(df3['jyje'])).show(5)\n"
   ]
  },
  {
   "cell_type": "code",
   "execution_count": 194,
   "metadata": {},
   "outputs": [],
   "source": [
    "df_like=df.select(['cxkh','jymc','jdbz','jyje','jydfmc']).filter(\"jydfmc rlike  '基金|理财|证券'\") # 模糊匹配"
   ]
  },
  {
   "cell_type": "code",
   "execution_count": 198,
   "metadata": {},
   "outputs": [],
   "source": [
    "# df_like.show(3),df_like.count(),len(df_like.columns)"
   ]
  },
  {
   "cell_type": "code",
   "execution_count": 199,
   "metadata": {},
   "outputs": [],
   "source": [
    "df_person=df.select('cxkh','jymc').dropDuplicates()\n",
    "# df_person.show(3)"
   ]
  },
  {
   "cell_type": "code",
   "execution_count": 200,
   "metadata": {},
   "outputs": [],
   "source": [
    "df_lastime=df.select('cxkh','jysj','jyje').groupBy('cxkh').agg({'jysj':'max','jyje':'max'}).\\\n",
    "withColumnRenamed('cxkh','cxkh1').withColumnRenamed('max(jysj)','最晚一次交易时间').\\\n",
    "withColumnRenamed('max(jyje)','最大交易金额') #修改指定字段的名字， df.seleceExpr('first_name as lase_name'),这个好像需要字段名全部写上，否则最终显示结果只有更改了列名的那一列。\n",
    "# df_lastime.show(2)"
   ]
  },
  {
   "cell_type": "code",
   "execution_count": 201,
   "metadata": {},
   "outputs": [
    {
     "name": "stdout",
     "output_type": "stream",
     "text": [
      "root\n",
      " |-- cxkh1: string (nullable = true)\n",
      " |-- 最晚一次交易时间: string (nullable = true)\n",
      " |-- 最大交易金额: string (nullable = true)\n",
      "\n"
     ]
    }
   ],
   "source": [
    "df_lastime.printSchema()"
   ]
  },
  {
   "cell_type": "code",
   "execution_count": 202,
   "metadata": {},
   "outputs": [
    {
     "data": {
      "text/plain": [
       "(219, 219)"
      ]
     },
     "execution_count": 202,
     "metadata": {},
     "output_type": "execute_result"
    }
   ],
   "source": [
    "df_person.count(),df_lastime.count()"
   ]
  },
  {
   "cell_type": "code",
   "execution_count": 203,
   "metadata": {},
   "outputs": [],
   "source": [
    "df_person_info_lasttime=df_person.join(df_lastime,df_person['cxkh']==df_lastime['cxkh1'],\\\n",
    "                                       'left_outer').orderBy('cxkh',ascending=True)# 两表拼接指定字段的拼接，其他的连接方式：inner, outer, left_outer, right_outer, leftsemi"
   ]
  },
  {
   "cell_type": "code",
   "execution_count": 206,
   "metadata": {
    "scrolled": true
   },
   "outputs": [
    {
     "name": "stdout",
     "output_type": "stream",
     "text": [
      "+----+----+-----+----------------+------------+\n",
      "|cxkh|jymc|cxkh1|最晚一次交易时间|最大交易金额|\n",
      "+----+----+-----+----------------+------------+\n",
      "+----+----+-----+----------------+------------+\n",
      "\n"
     ]
    }
   ],
   "source": [
    "df_person_info_lasttime.registerTempTable('df_person_info_lasttime') # 将数据框注册为一个table\n",
    "spark.sql(\"select * from df_person_info_lasttime  where jymc='xx'\").show()#程序 mysql程序"
   ]
  },
  {
   "cell_type": "code",
   "execution_count": 81,
   "metadata": {},
   "outputs": [],
   "source": [
    "#写出在多个csv文件中，一个csv文件为一行数据\n",
    "df_person_info_lasttime.write.save('c:/users/user1/desktop/tt1.csv')"
   ]
  },
  {
   "cell_type": "code",
   "execution_count": 85,
   "metadata": {},
   "outputs": [],
   "source": [
    "#写出在一个csv 文件中\n",
    "df_person_info_lasttime.repartition(1).write.csv(\"path.csv\",header=True, sep=\",\", mode='overwrite',encoding='utf-8')\n"
   ]
  },
  {
   "cell_type": "code",
   "execution_count": 86,
   "metadata": {},
   "outputs": [],
   "source": [
    "#转换python pandas dataframe,,通过to_excel (),to_csv（）输出\n",
    "d1=df_person_info_lasttime.toPandas() #转换成pandas ,可以用to_excel 输出"
   ]
  },
  {
   "cell_type": "code",
   "execution_count": 91,
   "metadata": {},
   "outputs": [],
   "source": [
    "#保存为parquet格式数据。读取速度快，占用内存小\n",
    "df_person_info_lasttime.write.format('parquet').save('path4.parquet')"
   ]
  },
  {
   "cell_type": "code",
   "execution_count": 93,
   "metadata": {},
   "outputs": [],
   "source": [
    "#读取parquet数据\n",
    "d1=spark.read.format('parquet').load('path4.parquet')\n"
   ]
  },
  {
   "cell_type": "code",
   "execution_count": 208,
   "metadata": {},
   "outputs": [],
   "source": [
    "df_intersect=df.select('jymc').dropDuplicates().intersect(df.select('jydfmc').dropDuplicates())#交集\n",
    "# df_intersect.count(),df_intersect.show(3)"
   ]
  },
  {
   "cell_type": "code",
   "execution_count": 209,
   "metadata": {},
   "outputs": [],
   "source": [
    "df_subtract=df.select('jymc').dropDuplicates().subtract(df.select('jydfmc').dropDuplicates())#查缉\n",
    "# df_subtract.count(),df_subtract.show(3)"
   ]
  },
  {
   "cell_type": "code",
   "execution_count": 210,
   "metadata": {},
   "outputs": [
    {
     "name": "stdout",
     "output_type": "stream",
     "text": [
      "+------+\n",
      "|  jymc|\n",
      "+------+\n",
      "|张丽丽|\n",
      "|高明明|\n",
      "|吴晓虎|\n",
      "+------+\n",
      "only showing top 3 rows\n",
      "\n"
     ]
    },
    {
     "data": {
      "text/plain": [
       "(1071, None)"
      ]
     },
     "execution_count": 210,
     "metadata": {},
     "output_type": "execute_result"
    }
   ],
   "source": [
    "df_union=df.select('jymc').dropDuplicates().union(df.select('jydfmc').dropDuplicates())#并缉\n",
    "df_union.count(),df_union.show(3)"
   ]
  },
  {
   "cell_type": "code",
   "execution_count": 211,
   "metadata": {},
   "outputs": [],
   "source": [
    "df_union_distinct=df.select('jymc').union(df.select('jydfmc')).distinct()#并集+去重\n",
    "# df_union_distinct.count(),df_union_distinct.show(3)"
   ]
  },
  {
   "cell_type": "code",
   "execution_count": 212,
   "metadata": {},
   "outputs": [],
   "source": [
    "df_year=df.select('jysj')"
   ]
  },
  {
   "cell_type": "code",
   "execution_count": 213,
   "metadata": {},
   "outputs": [
    {
     "name": "stdout",
     "output_type": "stream",
     "text": [
      "+-------------------+----------+--------+\n",
      "|               jysj|      jyrq|  jytime|\n",
      "+-------------------+----------+--------+\n",
      "|2016-02-21 15:30:27|2016-02-21|15:30:27|\n",
      "|2016-07-06 15:14:08|2016-07-06|15:14:08|\n",
      "+-------------------+----------+--------+\n",
      "only showing top 2 rows\n",
      "\n"
     ]
    }
   ],
   "source": [
    "from pyspark.sql.functions import split\n",
    "df_year=df_year.withColumn('jyrq',split(df_year['jysj'],\" \").getItem(0))\n",
    "df_year=df_year.withColumn('jytime',split(df_year['jysj'],\" \")[1])\n",
    "\n",
    "df_year.show(2)"
   ]
  },
  {
   "cell_type": "code",
   "execution_count": 214,
   "metadata": {},
   "outputs": [
    {
     "data": {
      "text/plain": [
       "DataFrame[jysj: string, jyrq: string, jytime: string]"
      ]
     },
     "execution_count": 214,
     "metadata": {},
     "output_type": "execute_result"
    }
   ],
   "source": [
    "df_year"
   ]
  },
  {
   "cell_type": "code",
   "execution_count": 215,
   "metadata": {
    "scrolled": true
   },
   "outputs": [
    {
     "name": "stdout",
     "output_type": "stream",
     "text": [
      "+-------------------+----------+--------+----+-----+---+----+-------+\n",
      "|               jysj|      jyrq|  jytime|year|month|day|week|day_num|\n",
      "+-------------------+----------+--------+----+-----+---+----+-------+\n",
      "|2016-02-21 15:30:27|2016-02-21|15:30:27|2016|    2| 21|   1|     52|\n",
      "|2016-07-06 15:14:08|2016-07-06|15:14:08|2016|    7|  6|   4|    188|\n",
      "|2016-07-13 16:48:09|2016-07-13|16:48:09|2016|    7| 13|   4|    195|\n",
      "+-------------------+----------+--------+----+-----+---+----+-------+\n",
      "only showing top 3 rows\n",
      "\n"
     ]
    }
   ],
   "source": [
    "from pyspark.sql.functions import month,year,dayofmonth,dayofweek,dayofyear\n",
    "df_year=df_year.withColumn('year',year('jysj')).\\\n",
    "withColumn('month',month('jysj')).\\\n",
    "withColumn('day',dayofmonth('jysj')).\\\n",
    "withColumn('week',dayofweek('jysj')).\\\n",
    "withColumn('day_num',dayofyear('jysj'))  # h回去对于的年，月，日，一周内第几天，一年内第几天\n",
    "df_year.show(3)"
   ]
  },
  {
   "cell_type": "code",
   "execution_count": 216,
   "metadata": {},
   "outputs": [
    {
     "name": "stdout",
     "output_type": "stream",
     "text": [
      "root\n",
      " |-- jysj: string (nullable = true)\n",
      " |-- jyrq: string (nullable = true)\n",
      " |-- jytime: string (nullable = true)\n",
      " |-- year: integer (nullable = true)\n",
      " |-- month: integer (nullable = true)\n",
      " |-- day: integer (nullable = true)\n",
      " |-- week: integer (nullable = true)\n",
      " |-- day_num: integer (nullable = true)\n",
      "\n"
     ]
    }
   ],
   "source": [
    "df_year.printSchema()"
   ]
  },
  {
   "cell_type": "code",
   "execution_count": null,
   "metadata": {},
   "outputs": [],
   "source": []
  }
 ],
 "metadata": {
  "kernelspec": {
   "display_name": "Python 3",
   "language": "python",
   "name": "python3"
  },
  "language_info": {
   "codemirror_mode": {
    "name": "ipython",
    "version": 3
   },
   "file_extension": ".py",
   "mimetype": "text/x-python",
   "name": "python",
   "nbconvert_exporter": "python",
   "pygments_lexer": "ipython3",
   "version": "3.7.3"
  }
 },
 "nbformat": 4,
 "nbformat_minor": 2
}
